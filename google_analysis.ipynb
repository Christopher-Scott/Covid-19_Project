{
 "cells": [
  {
   "cell_type": "code",
   "execution_count": 1,
   "metadata": {},
   "outputs": [],
   "source": [
    "%matplotlib inline\n",
    "\n",
    "import pandas as pd\n",
    "import numpy as np\n",
    "from pandas import DataFrame\n",
    "from pandas import Series\n",
    "import matplotlib.pyplot as plt\n",
    "import matplotlib.dates as mdates"
   ]
  },
  {
   "cell_type": "code",
   "execution_count": 35,
   "metadata": {},
   "outputs": [],
   "source": [
    "mitig = pd.read_csv(\"mitigation_cleaned.csv\")\n",
    "google = pd.read_csv(\"Global_Mobility_Report.csv\")\n",
    "google_us = google[google[\"country_region_code\"] == \"US\"]"
   ]
  },
  {
   "cell_type": "code",
   "execution_count": 36,
   "metadata": {},
   "outputs": [],
   "source": [
    "no_counties = google_us[google_us['sub_region_2'].isna()]\n",
    "states_only = no_counties[no_counties['sub_region_1'].notna()]\n",
    "country = no_counties[no_counties['sub_region_1'].isna()]"
   ]
  },
  {
   "cell_type": "code",
   "execution_count": 37,
   "metadata": {},
   "outputs": [
    {
     "name": "stdout",
     "output_type": "stream",
     "text": [
      "<class 'pandas.core.frame.DataFrame'>\n",
      "RangeIndex: 2814 entries, 0 to 2813\n",
      "Data columns (total 10 columns):\n",
      "Unnamed: 0          2814 non-null int64\n",
      "State               2813 non-null object\n",
      "County              863 non-null object\n",
      "Date                2814 non-null datetime64[ns]\n",
      "Raw Description     2814 non-null object\n",
      "Information type    2808 non-null object\n",
      "Mitigation type     2814 non-null object\n",
      "Note                845 non-null object\n",
      "UserID              2810 non-null object\n",
      "Source              2811 non-null object\n",
      "dtypes: datetime64[ns](1), int64(1), object(8)\n",
      "memory usage: 220.0+ KB\n"
     ]
    }
   ],
   "source": [
    "country.loc[:,'date'] = pd.to_datetime(country['date'])\n",
    "states_only.loc[:,'date'] = pd.to_datetime(states_only['date'])\n",
    "mitig.loc[:,'Date'] = pd.to_datetime(mitig['Date'])\n",
    "states_only[states_only[\"sub_region_1\"] == \"Arizona\"]['date']"
   ]
  },
  {
   "cell_type": "code",
   "execution_count": 38,
   "metadata": {},
   "outputs": [
    {
     "name": "stdout",
     "output_type": "stream",
     "text": [
      "<class 'pandas.core.frame.DataFrame'>\n",
      "Int64Index: 2907 entries, 67149 to 221041\n",
      "Data columns (total 11 columns):\n",
      "country_region_code                                   2907 non-null object\n",
      "country_region                                        2907 non-null object\n",
      "sub_region_1                                          2907 non-null object\n",
      "sub_region_2                                          0 non-null object\n",
      "date                                                  2907 non-null datetime64[ns]\n",
      "retail_and_recreation_percent_change_from_baseline    2907 non-null float64\n",
      "grocery_and_pharmacy_percent_change_from_baseline     2907 non-null float64\n",
      "parks_percent_change_from_baseline                    2907 non-null float64\n",
      "transit_stations_percent_change_from_baseline         2907 non-null float64\n",
      "workplaces_percent_change_from_baseline               2907 non-null float64\n",
      "residential_percent_change_from_baseline              2907 non-null float64\n",
      "dtypes: datetime64[ns](1), float64(6), object(4)\n",
      "memory usage: 272.5+ KB\n"
     ]
    }
   ],
   "source": []
  },
  {
   "cell_type": "code",
   "execution_count": null,
   "metadata": {},
   "outputs": [],
   "source": []
  }
 ],
 "metadata": {
  "kernelspec": {
   "display_name": "Python 3",
   "language": "python",
   "name": "python3"
  },
  "language_info": {
   "codemirror_mode": {
    "name": "ipython",
    "version": 3
   },
   "file_extension": ".py",
   "mimetype": "text/x-python",
   "name": "python",
   "nbconvert_exporter": "python",
   "pygments_lexer": "ipython3",
   "version": "3.7.4"
  }
 },
 "nbformat": 4,
 "nbformat_minor": 2
}
