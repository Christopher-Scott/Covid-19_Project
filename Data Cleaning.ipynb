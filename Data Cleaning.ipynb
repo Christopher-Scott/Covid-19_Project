{
 "cells": [
  {
   "cell_type": "code",
   "execution_count": 19,
   "metadata": {},
   "outputs": [],
   "source": [
    "import numpy as np\n",
    "import pandas as pd\n",
    "from pandas import DataFrame"
   ]
  },
  {
   "cell_type": "code",
   "execution_count": 20,
   "metadata": {},
   "outputs": [],
   "source": [
    "apple = pd.read_csv(\"applemobilitytrends-2020-04-20.csv\")\n",
    "mitig = pd.read_csv(\"Covid-19 Admin Console - Central Data.csv\")"
   ]
  },
  {
   "cell_type": "code",
   "execution_count": 21,
   "metadata": {},
   "outputs": [
    {
     "data": {
      "text/plain": [
       "other                                                                490\n",
       "new public services                                                  278\n",
       "non-essential closing                                                212\n",
       "school closing                                                       167\n",
       "movement restriction                                                 159\n",
       "stay at home                                                         137\n",
       "events cancelled                                                     120\n",
       "state of emergency                                                   115\n",
       "public service reduction                                             105\n",
       "new public service                                                    41\n",
       "wear masks                                                            36\n",
       "work restriction                                                      26\n",
       "public services reduction                                             18\n",
       "Other                                                                  8\n",
       "stay at home policy                                                    3\n",
       "schools closing                                                        3\n",
       "work resistriction                                                     3\n",
       "School Closing                                                         2\n",
       "Stay at home                                                           2\n",
       "public service restriciton                                             2\n",
       "work restiriction                                                      2\n",
       "other buying limit                                                     2\n",
       "essential closing                                                      2\n",
       "gathering restriction                                                  2\n",
       "events cancellation                                                    1\n",
       "work restrictions                                                      1\n",
       "public service reduction, state of emergency                           1\n",
       "stay-at-home                                                           1\n",
       "events cancelled/movement restriciton                                  1\n",
       "social distancing                                                      1\n",
       "public service reduction, events cancelled, non-essential closing      1\n",
       "movement resistriction                                                 1\n",
       "pubilc service reduction                                               1\n",
       "movement restrictions                                                  1\n",
       "school closing; non-essential closing                                  1\n",
       "state of emergency, movement restriction                               1\n",
       "events cancelled, non-essential closing                                1\n",
       "travel restriction                                                     1\n",
       "Name: Mitigation type, dtype: int64"
      ]
     },
     "execution_count": 21,
     "metadata": {},
     "output_type": "execute_result"
    }
   ],
   "source": [
    "mitig[\"Mitigation type\"].value_counts()\n"
   ]
  },
  {
   "cell_type": "code",
   "execution_count": 23,
   "metadata": {},
   "outputs": [
    {
     "data": {
      "text/plain": [
       "other                       503\n",
       "new public services         319\n",
       "non-essential closing       213\n",
       "school closing              173\n",
       "movement restriction        164\n",
       "stay at home                143\n",
       "public service reduction    126\n",
       "events cancelled            123\n",
       "state of emergency          117\n",
       "wear masks                   36\n",
       "work restriction             32\n",
       "Name: Mitigation type, dtype: int64"
      ]
     },
     "execution_count": 23,
     "metadata": {},
     "output_type": "execute_result"
    }
   ],
   "source": [
    "# ================= cleaning mitigation =================\n",
    "# dirty categories\n",
    "categories = {\"new public service\": \"new public services\", \n",
    "              \"public services reduction\": \"public service reduction\",\n",
    "              \"Other\": \"other\",\n",
    "              \"work resistriction\": \"work restriction\",\n",
    "              \"stay at home policy\": \"stay at home\",\n",
    "              \"schools closing\": \"school closing\",\n",
    "              \"School Closing\": \"school closing\",\n",
    "              \"Stay at home\": \"stay at home\",\n",
    "              \"public service restriciton\": \"public service reduction\",\n",
    "              \"work restiriction\": \"work restriction\",\n",
    "              \"other buying limit\": \"other\",\n",
    "              \"essential closing\": \"other\",\n",
    "              \"gathering restriction\": \"movement restriction\",\n",
    "              \"events cancellation\": \"events cancelled\",\n",
    "              \"public service reduction, state of emergency\": \"state of emergency\",\n",
    "              \"work restrictions\": \"work restriction\",\n",
    "              \"stay-at-home\": \"stay at home\",\n",
    "              \"events cancelled/movement restriciton\": \"events cancelled\",\n",
    "              \"social distancing\": \"other\",\n",
    "              \"public service reduction, events cancelled, non-essential closing\": \"non-essential closing\",\n",
    "              \"movement resistriction\": \"movement restriction\",\n",
    "              \"pubilc service reduction\": \"public service reduction\",\n",
    "              \"movement restrictions\": \"movement restriction\",\n",
    "              \"school closing; non-essential closing\": \"school closing\",\n",
    "              \"state of emergency, movement restriction\": \"state of emergency\",\n",
    "              \"events cancelled, non-essential closing\": \"events cancelled\",\n",
    "              \"travel restriction\": \"movement restriction\",\n",
    "             }\n",
    "mitig[\"Mitigation type\"] = mitig[\"Mitigation type\"].replace(to_replace=categories)\n",
    "mitig[\"Mitigation type\"].value_counts()\n"
   ]
  },
  {
   "cell_type": "code",
   "execution_count": 24,
   "metadata": {},
   "outputs": [],
   "source": [
    "mitig.to_csv(\"mitigation_cleaned\")"
   ]
  },
  {
   "cell_type": "code",
   "execution_count": null,
   "metadata": {},
   "outputs": [],
   "source": []
  }
 ],
 "metadata": {
  "kernelspec": {
   "display_name": "Python 3",
   "language": "python",
   "name": "python3"
  },
  "language_info": {
   "codemirror_mode": {
    "name": "ipython",
    "version": 3
   },
   "file_extension": ".py",
   "mimetype": "text/x-python",
   "name": "python",
   "nbconvert_exporter": "python",
   "pygments_lexer": "ipython3",
   "version": "3.7.4"
  }
 },
 "nbformat": 4,
 "nbformat_minor": 2
}
